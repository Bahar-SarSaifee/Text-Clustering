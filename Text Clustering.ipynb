{
 "cells": [
  {
   "cell_type": "markdown",
   "id": "c689f857",
   "metadata": {},
   "source": [
    "# Text Clustering with TF-IDF in Python"
   ]
  },
  {
   "cell_type": "code",
   "execution_count": 1,
   "id": "ec3fe87b",
   "metadata": {},
   "outputs": [],
   "source": [
    "from sklearn.feature_extraction.text import TfidfVectorizer\n",
    "from sklearn.cluster import KMeans\n",
    "from sklearn.decomposition import PCA\n",
    "\n",
    "import pandas as pd\n",
    "import numpy as np\n",
    "\n",
    "import re\n",
    "import string\n",
    "import nltk\n",
    "from nltk.corpus import stopwords\n",
    "\n",
    "import matplotlib.pyplot as plt\n",
    "import seaborn as sns"
   ]
  },
  {
   "cell_type": "code",
   "execution_count": 2,
   "id": "12ea8421",
   "metadata": {},
   "outputs": [
    {
     "data": {
      "text/html": [
       "<div>\n",
       "<style scoped>\n",
       "    .dataframe tbody tr th:only-of-type {\n",
       "        vertical-align: middle;\n",
       "    }\n",
       "\n",
       "    .dataframe tbody tr th {\n",
       "        vertical-align: top;\n",
       "    }\n",
       "\n",
       "    .dataframe thead th {\n",
       "        text-align: right;\n",
       "    }\n",
       "</style>\n",
       "<table border=\"1\" class=\"dataframe\">\n",
       "  <thead>\n",
       "    <tr style=\"text-align: right;\">\n",
       "      <th></th>\n",
       "      <th>title</th>\n",
       "      <th>pubDate</th>\n",
       "      <th>guid</th>\n",
       "      <th>link</th>\n",
       "      <th>description</th>\n",
       "    </tr>\n",
       "  </thead>\n",
       "  <tbody>\n",
       "    <tr>\n",
       "      <th>0</th>\n",
       "      <td>Ukraine: Angry Zelensky vows to punish Russian...</td>\n",
       "      <td>Mon, 07 Mar 2022 08:01:56 GMT</td>\n",
       "      <td>https://www.bbc.co.uk/news/world-europe-60638042</td>\n",
       "      <td>https://www.bbc.co.uk/news/world-europe-606380...</td>\n",
       "      <td>The Ukrainian president says the country will ...</td>\n",
       "    </tr>\n",
       "    <tr>\n",
       "      <th>1</th>\n",
       "      <td>War in Ukraine: Taking cover in a town under a...</td>\n",
       "      <td>Sun, 06 Mar 2022 22:49:58 GMT</td>\n",
       "      <td>https://www.bbc.co.uk/news/world-europe-60641873</td>\n",
       "      <td>https://www.bbc.co.uk/news/world-europe-606418...</td>\n",
       "      <td>Jeremy Bowen was on the frontline in Irpin, as...</td>\n",
       "    </tr>\n",
       "    <tr>\n",
       "      <th>2</th>\n",
       "      <td>Ukraine war 'catastrophic for global food'</td>\n",
       "      <td>Mon, 07 Mar 2022 00:14:42 GMT</td>\n",
       "      <td>https://www.bbc.co.uk/news/business-60623941</td>\n",
       "      <td>https://www.bbc.co.uk/news/business-60623941?a...</td>\n",
       "      <td>One of the world's biggest fertiliser firms sa...</td>\n",
       "    </tr>\n",
       "    <tr>\n",
       "      <th>3</th>\n",
       "      <td>Manchester Arena bombing: Saffie Roussos's par...</td>\n",
       "      <td>Mon, 07 Mar 2022 00:05:40 GMT</td>\n",
       "      <td>https://www.bbc.co.uk/news/uk-60579079</td>\n",
       "      <td>https://www.bbc.co.uk/news/uk-60579079?at_medi...</td>\n",
       "      <td>The parents of the Manchester Arena bombing's ...</td>\n",
       "    </tr>\n",
       "    <tr>\n",
       "      <th>4</th>\n",
       "      <td>Ukraine conflict: Oil price soars to highest l...</td>\n",
       "      <td>Mon, 07 Mar 2022 08:15:53 GMT</td>\n",
       "      <td>https://www.bbc.co.uk/news/business-60642786</td>\n",
       "      <td>https://www.bbc.co.uk/news/business-60642786?a...</td>\n",
       "      <td>Consumers are feeling the impact of higher ene...</td>\n",
       "    </tr>\n",
       "  </tbody>\n",
       "</table>\n",
       "</div>"
      ],
      "text/plain": [
       "                                               title  \\\n",
       "0  Ukraine: Angry Zelensky vows to punish Russian...   \n",
       "1  War in Ukraine: Taking cover in a town under a...   \n",
       "2         Ukraine war 'catastrophic for global food'   \n",
       "3  Manchester Arena bombing: Saffie Roussos's par...   \n",
       "4  Ukraine conflict: Oil price soars to highest l...   \n",
       "\n",
       "                         pubDate  \\\n",
       "0  Mon, 07 Mar 2022 08:01:56 GMT   \n",
       "1  Sun, 06 Mar 2022 22:49:58 GMT   \n",
       "2  Mon, 07 Mar 2022 00:14:42 GMT   \n",
       "3  Mon, 07 Mar 2022 00:05:40 GMT   \n",
       "4  Mon, 07 Mar 2022 08:15:53 GMT   \n",
       "\n",
       "                                               guid  \\\n",
       "0  https://www.bbc.co.uk/news/world-europe-60638042   \n",
       "1  https://www.bbc.co.uk/news/world-europe-60641873   \n",
       "2      https://www.bbc.co.uk/news/business-60623941   \n",
       "3            https://www.bbc.co.uk/news/uk-60579079   \n",
       "4      https://www.bbc.co.uk/news/business-60642786   \n",
       "\n",
       "                                                link  \\\n",
       "0  https://www.bbc.co.uk/news/world-europe-606380...   \n",
       "1  https://www.bbc.co.uk/news/world-europe-606418...   \n",
       "2  https://www.bbc.co.uk/news/business-60623941?a...   \n",
       "3  https://www.bbc.co.uk/news/uk-60579079?at_medi...   \n",
       "4  https://www.bbc.co.uk/news/business-60642786?a...   \n",
       "\n",
       "                                         description  \n",
       "0  The Ukrainian president says the country will ...  \n",
       "1  Jeremy Bowen was on the frontline in Irpin, as...  \n",
       "2  One of the world's biggest fertiliser firms sa...  \n",
       "3  The parents of the Manchester Arena bombing's ...  \n",
       "4  Consumers are feeling the impact of higher ene...  "
      ]
     },
     "execution_count": 2,
     "metadata": {},
     "output_type": "execute_result"
    }
   ],
   "source": [
    "df = pd.read_csv('./Dataset/bbc_news.csv')\n",
    "df.head()"
   ]
  },
  {
   "cell_type": "code",
   "execution_count": 3,
   "id": "0d1af4a5",
   "metadata": {},
   "outputs": [],
   "source": [
    "df = pd.DataFrame(df, columns=['description'])"
   ]
  },
  {
   "cell_type": "code",
   "execution_count": 4,
   "id": "c0f13940",
   "metadata": {},
   "outputs": [
    {
     "data": {
      "text/html": [
       "<div>\n",
       "<style scoped>\n",
       "    .dataframe tbody tr th:only-of-type {\n",
       "        vertical-align: middle;\n",
       "    }\n",
       "\n",
       "    .dataframe tbody tr th {\n",
       "        vertical-align: top;\n",
       "    }\n",
       "\n",
       "    .dataframe thead th {\n",
       "        text-align: right;\n",
       "    }\n",
       "</style>\n",
       "<table border=\"1\" class=\"dataframe\">\n",
       "  <thead>\n",
       "    <tr style=\"text-align: right;\">\n",
       "      <th></th>\n",
       "      <th>description</th>\n",
       "    </tr>\n",
       "  </thead>\n",
       "  <tbody>\n",
       "    <tr>\n",
       "      <th>0</th>\n",
       "      <td>The Ukrainian president says the country will ...</td>\n",
       "    </tr>\n",
       "    <tr>\n",
       "      <th>1</th>\n",
       "      <td>Jeremy Bowen was on the frontline in Irpin, as...</td>\n",
       "    </tr>\n",
       "    <tr>\n",
       "      <th>2</th>\n",
       "      <td>One of the world's biggest fertiliser firms sa...</td>\n",
       "    </tr>\n",
       "    <tr>\n",
       "      <th>3</th>\n",
       "      <td>The parents of the Manchester Arena bombing's ...</td>\n",
       "    </tr>\n",
       "    <tr>\n",
       "      <th>4</th>\n",
       "      <td>Consumers are feeling the impact of higher ene...</td>\n",
       "    </tr>\n",
       "    <tr>\n",
       "      <th>...</th>\n",
       "      <td>...</td>\n",
       "    </tr>\n",
       "    <tr>\n",
       "      <th>19035</th>\n",
       "      <td>At a crisis meeting, France's president condem...</td>\n",
       "    </tr>\n",
       "    <tr>\n",
       "      <th>19036</th>\n",
       "      <td>The death of 17-year-old Nahel M, during a tra...</td>\n",
       "    </tr>\n",
       "    <tr>\n",
       "      <th>19037</th>\n",
       "      <td>Nahel M's death follows an increase in police ...</td>\n",
       "    </tr>\n",
       "    <tr>\n",
       "      <th>19038</th>\n",
       "      <td>France sees a third night of mass unrest, trig...</td>\n",
       "    </tr>\n",
       "    <tr>\n",
       "      <th>19039</th>\n",
       "      <td>He was learning to be an electrician and playe...</td>\n",
       "    </tr>\n",
       "  </tbody>\n",
       "</table>\n",
       "<p>19040 rows × 1 columns</p>\n",
       "</div>"
      ],
      "text/plain": [
       "                                             description\n",
       "0      The Ukrainian president says the country will ...\n",
       "1      Jeremy Bowen was on the frontline in Irpin, as...\n",
       "2      One of the world's biggest fertiliser firms sa...\n",
       "3      The parents of the Manchester Arena bombing's ...\n",
       "4      Consumers are feeling the impact of higher ene...\n",
       "...                                                  ...\n",
       "19035  At a crisis meeting, France's president condem...\n",
       "19036  The death of 17-year-old Nahel M, during a tra...\n",
       "19037  Nahel M's death follows an increase in police ...\n",
       "19038  France sees a third night of mass unrest, trig...\n",
       "19039  He was learning to be an electrician and playe...\n",
       "\n",
       "[19040 rows x 1 columns]"
      ]
     },
     "execution_count": 4,
     "metadata": {},
     "output_type": "execute_result"
    }
   ],
   "source": [
    "df"
   ]
  },
  {
   "cell_type": "code",
   "execution_count": 5,
   "id": "1fccac7a",
   "metadata": {},
   "outputs": [
    {
     "data": {
      "text/plain": [
       "(19040, 1)"
      ]
     },
     "execution_count": 5,
     "metadata": {},
     "output_type": "execute_result"
    }
   ],
   "source": [
    "df.shape"
   ]
  },
  {
   "cell_type": "markdown",
   "id": "2b5b7d46",
   "metadata": {},
   "source": [
    "### Preprocessing"
   ]
  },
  {
   "cell_type": "code",
   "execution_count": 6,
   "id": "3d1bb129",
   "metadata": {},
   "outputs": [
    {
     "data": {
      "text/plain": [
       "['i', 'me', 'my', 'myself', 'we', 'our', 'ours', 'ourselves', 'you', \"you're\"]"
      ]
     },
     "execution_count": 6,
     "metadata": {},
     "output_type": "execute_result"
    }
   ],
   "source": [
    "stopwords.words(\"english\")[:10]"
   ]
  },
  {
   "cell_type": "code",
   "execution_count": 7,
   "id": "573a9c42",
   "metadata": {},
   "outputs": [],
   "source": [
    "def preprocess_text(text: str, remove_stopwords: bool) -> str:\n",
    "    \n",
    "    # remove links\n",
    "    text = re.sub(r\"http\\S+\", \"\", text)\n",
    "    # remove special chars and numbers\n",
    "    text = re.sub(\"[^A-Za-z]+\", \" \", text)\n",
    "    # remove stopwords\n",
    "    if remove_stopwords:\n",
    "        # 1. tokenize\n",
    "        tokens = nltk.word_tokenize(text)\n",
    "        # 2. check if stopword\n",
    "        tokens = [w for w in tokens if not w.lower() in stopwords.words(\"english\")]\n",
    "        # 3. join back together\n",
    "        text = \" \".join(tokens)\n",
    "    # return text in lower case and stripped of whitespaces\n",
    "    text = text.lower().strip()\n",
    "    return text"
   ]
  },
  {
   "cell_type": "code",
   "execution_count": 8,
   "id": "8deb7a25",
   "metadata": {},
   "outputs": [],
   "source": [
    "df['cleaned'] = df['description'].apply(lambda x: preprocess_text(x, remove_stopwords=True))"
   ]
  },
  {
   "cell_type": "code",
   "execution_count": 9,
   "id": "aa953631",
   "metadata": {},
   "outputs": [
    {
     "data": {
      "text/html": [
       "<div>\n",
       "<style scoped>\n",
       "    .dataframe tbody tr th:only-of-type {\n",
       "        vertical-align: middle;\n",
       "    }\n",
       "\n",
       "    .dataframe tbody tr th {\n",
       "        vertical-align: top;\n",
       "    }\n",
       "\n",
       "    .dataframe thead th {\n",
       "        text-align: right;\n",
       "    }\n",
       "</style>\n",
       "<table border=\"1\" class=\"dataframe\">\n",
       "  <thead>\n",
       "    <tr style=\"text-align: right;\">\n",
       "      <th></th>\n",
       "      <th>description</th>\n",
       "      <th>cleaned</th>\n",
       "    </tr>\n",
       "  </thead>\n",
       "  <tbody>\n",
       "    <tr>\n",
       "      <th>0</th>\n",
       "      <td>The Ukrainian president says the country will ...</td>\n",
       "      <td>ukrainian president says country forgive forge...</td>\n",
       "    </tr>\n",
       "    <tr>\n",
       "      <th>1</th>\n",
       "      <td>Jeremy Bowen was on the frontline in Irpin, as...</td>\n",
       "      <td>jeremy bowen frontline irpin residents came ru...</td>\n",
       "    </tr>\n",
       "    <tr>\n",
       "      <th>2</th>\n",
       "      <td>One of the world's biggest fertiliser firms sa...</td>\n",
       "      <td>one world biggest fertiliser firms says confli...</td>\n",
       "    </tr>\n",
       "    <tr>\n",
       "      <th>3</th>\n",
       "      <td>The parents of the Manchester Arena bombing's ...</td>\n",
       "      <td>parents manchester arena bombing youngest vict...</td>\n",
       "    </tr>\n",
       "    <tr>\n",
       "      <th>4</th>\n",
       "      <td>Consumers are feeling the impact of higher ene...</td>\n",
       "      <td>consumers feeling impact higher energy costs f...</td>\n",
       "    </tr>\n",
       "    <tr>\n",
       "      <th>...</th>\n",
       "      <td>...</td>\n",
       "      <td>...</td>\n",
       "    </tr>\n",
       "    <tr>\n",
       "      <th>19035</th>\n",
       "      <td>At a crisis meeting, France's president condem...</td>\n",
       "      <td>crisis meeting france president condemns three...</td>\n",
       "    </tr>\n",
       "    <tr>\n",
       "      <th>19036</th>\n",
       "      <td>The death of 17-year-old Nahel M, during a tra...</td>\n",
       "      <td>death year old nahel traffic stop provoked ang...</td>\n",
       "    </tr>\n",
       "    <tr>\n",
       "      <th>19037</th>\n",
       "      <td>Nahel M's death follows an increase in police ...</td>\n",
       "      <td>nahel death follows increase police using fire...</td>\n",
       "    </tr>\n",
       "    <tr>\n",
       "      <th>19038</th>\n",
       "      <td>France sees a third night of mass unrest, trig...</td>\n",
       "      <td>france sees third night mass unrest triggered ...</td>\n",
       "    </tr>\n",
       "    <tr>\n",
       "      <th>19039</th>\n",
       "      <td>He was learning to be an electrician and playe...</td>\n",
       "      <td>learning electrician played rugby league died ...</td>\n",
       "    </tr>\n",
       "  </tbody>\n",
       "</table>\n",
       "<p>19040 rows × 2 columns</p>\n",
       "</div>"
      ],
      "text/plain": [
       "                                             description  \\\n",
       "0      The Ukrainian president says the country will ...   \n",
       "1      Jeremy Bowen was on the frontline in Irpin, as...   \n",
       "2      One of the world's biggest fertiliser firms sa...   \n",
       "3      The parents of the Manchester Arena bombing's ...   \n",
       "4      Consumers are feeling the impact of higher ene...   \n",
       "...                                                  ...   \n",
       "19035  At a crisis meeting, France's president condem...   \n",
       "19036  The death of 17-year-old Nahel M, during a tra...   \n",
       "19037  Nahel M's death follows an increase in police ...   \n",
       "19038  France sees a third night of mass unrest, trig...   \n",
       "19039  He was learning to be an electrician and playe...   \n",
       "\n",
       "                                                 cleaned  \n",
       "0      ukrainian president says country forgive forge...  \n",
       "1      jeremy bowen frontline irpin residents came ru...  \n",
       "2      one world biggest fertiliser firms says confli...  \n",
       "3      parents manchester arena bombing youngest vict...  \n",
       "4      consumers feeling impact higher energy costs f...  \n",
       "...                                                  ...  \n",
       "19035  crisis meeting france president condemns three...  \n",
       "19036  death year old nahel traffic stop provoked ang...  \n",
       "19037  nahel death follows increase police using fire...  \n",
       "19038  france sees third night mass unrest triggered ...  \n",
       "19039  learning electrician played rugby league died ...  \n",
       "\n",
       "[19040 rows x 2 columns]"
      ]
     },
     "execution_count": 9,
     "metadata": {},
     "output_type": "execute_result"
    }
   ],
   "source": [
    "df"
   ]
  },
  {
   "cell_type": "markdown",
   "id": "49447f0c",
   "metadata": {},
   "source": [
    "### TF-IDF Vectorization"
   ]
  },
  {
   "cell_type": "code",
   "execution_count": 10,
   "id": "16967973",
   "metadata": {},
   "outputs": [],
   "source": [
    "vectorizer = TfidfVectorizer(max_features=10000)\n",
    "X = vectorizer.fit_transform(df['cleaned'])"
   ]
  },
  {
   "cell_type": "code",
   "execution_count": 11,
   "id": "f8a1dd8a",
   "metadata": {},
   "outputs": [
    {
     "data": {
      "text/plain": [
       "array([[0., 0., 0., ..., 0., 0., 0.],\n",
       "       [0., 0., 0., ..., 0., 0., 0.],\n",
       "       [0., 0., 0., ..., 0., 0., 0.],\n",
       "       ...,\n",
       "       [0., 0., 0., ..., 0., 0., 0.],\n",
       "       [0., 0., 0., ..., 0., 0., 0.],\n",
       "       [0., 0., 0., ..., 0., 0., 0.]])"
      ]
     },
     "execution_count": 11,
     "metadata": {},
     "output_type": "execute_result"
    }
   ],
   "source": [
    "X.toarray()"
   ]
  },
  {
   "cell_type": "markdown",
   "id": "be0f23c3",
   "metadata": {},
   "source": [
    "### Implementation of KMeans"
   ]
  },
  {
   "cell_type": "code",
   "execution_count": 12,
   "id": "bbe9ce66",
   "metadata": {},
   "outputs": [],
   "source": [
    "from sklearn.cluster import KMeans\n",
    "\n",
    "kmeans = KMeans(n_clusters=3, random_state=12)\n",
    "\n",
    "kmeans.fit(X)\n",
    "\n",
    "clusters = kmeans.labels_"
   ]
  },
  {
   "cell_type": "code",
   "execution_count": 13,
   "id": "2f0bb47c",
   "metadata": {},
   "outputs": [
    {
     "data": {
      "text/plain": [
       "array([2, 2, 2, ..., 2, 2, 2], dtype=int32)"
      ]
     },
     "execution_count": 13,
     "metadata": {},
     "output_type": "execute_result"
    }
   ],
   "source": [
    "clusters"
   ]
  },
  {
   "cell_type": "code",
   "execution_count": 14,
   "id": "d779df2b",
   "metadata": {},
   "outputs": [
    {
     "data": {
      "text/plain": [
       "[2, 2, 2, 2, 2, 2, 2, 2, 2, 1]"
      ]
     },
     "execution_count": 14,
     "metadata": {},
     "output_type": "execute_result"
    }
   ],
   "source": [
    "[c for c in clusters][:10]"
   ]
  },
  {
   "cell_type": "code",
   "execution_count": 15,
   "id": "4192ab6c",
   "metadata": {},
   "outputs": [
    {
     "data": {
      "text/plain": [
       "(19040, 10000)"
      ]
     },
     "execution_count": 15,
     "metadata": {},
     "output_type": "execute_result"
    }
   ],
   "source": [
    "X.shape"
   ]
  },
  {
   "cell_type": "markdown",
   "id": "40d32d6d",
   "metadata": {},
   "source": [
    "### Dimensional Reduction and Visualization -----> PCA"
   ]
  },
  {
   "cell_type": "code",
   "execution_count": 16,
   "id": "956dc8d2",
   "metadata": {},
   "outputs": [],
   "source": [
    "from sklearn.decomposition import PCA\n",
    "\n",
    "pca = PCA(n_components=2, random_state=42)\n",
    "pca_vecs = pca.fit_transform(X.toarray())\n",
    "\n",
    "x0 = pca_vecs[:, 0]\n",
    "x1 = pca_vecs[:, 1]"
   ]
  },
  {
   "cell_type": "code",
   "execution_count": 17,
   "id": "c9e3d657",
   "metadata": {},
   "outputs": [
    {
     "data": {
      "text/plain": [
       "(19040,)"
      ]
     },
     "execution_count": 17,
     "metadata": {},
     "output_type": "execute_result"
    }
   ],
   "source": [
    "x0.shape"
   ]
  },
  {
   "cell_type": "code",
   "execution_count": 18,
   "id": "c895d413",
   "metadata": {},
   "outputs": [
    {
     "data": {
      "text/plain": [
       "(19040,)"
      ]
     },
     "execution_count": 18,
     "metadata": {},
     "output_type": "execute_result"
    }
   ],
   "source": [
    "x1.shape"
   ]
  },
  {
   "cell_type": "markdown",
   "id": "caa8eb52",
   "metadata": {},
   "source": [
    "### Visualize the Clustering"
   ]
  },
  {
   "cell_type": "code",
   "execution_count": 19,
   "id": "c8630f1a",
   "metadata": {},
   "outputs": [],
   "source": [
    "# assign clusters and pca vectors to our dataframe\n",
    "df['cluster'] = clusters\n",
    "df['x0'] = x0\n",
    "df['x1'] = x1"
   ]
  },
  {
   "cell_type": "code",
   "execution_count": 20,
   "id": "27f856ef",
   "metadata": {
    "scrolled": true
   },
   "outputs": [
    {
     "data": {
      "text/html": [
       "<div>\n",
       "<style scoped>\n",
       "    .dataframe tbody tr th:only-of-type {\n",
       "        vertical-align: middle;\n",
       "    }\n",
       "\n",
       "    .dataframe tbody tr th {\n",
       "        vertical-align: top;\n",
       "    }\n",
       "\n",
       "    .dataframe thead th {\n",
       "        text-align: right;\n",
       "    }\n",
       "</style>\n",
       "<table border=\"1\" class=\"dataframe\">\n",
       "  <thead>\n",
       "    <tr style=\"text-align: right;\">\n",
       "      <th></th>\n",
       "      <th>description</th>\n",
       "      <th>cleaned</th>\n",
       "      <th>cluster</th>\n",
       "      <th>x0</th>\n",
       "      <th>x1</th>\n",
       "    </tr>\n",
       "  </thead>\n",
       "  <tbody>\n",
       "    <tr>\n",
       "      <th>0</th>\n",
       "      <td>The Ukrainian president says the country will ...</td>\n",
       "      <td>ukrainian president says country forgive forge...</td>\n",
       "      <td>2</td>\n",
       "      <td>-0.059115</td>\n",
       "      <td>0.005855</td>\n",
       "    </tr>\n",
       "    <tr>\n",
       "      <th>1</th>\n",
       "      <td>Jeremy Bowen was on the frontline in Irpin, as...</td>\n",
       "      <td>jeremy bowen frontline irpin residents came ru...</td>\n",
       "      <td>2</td>\n",
       "      <td>-0.042678</td>\n",
       "      <td>0.010449</td>\n",
       "    </tr>\n",
       "    <tr>\n",
       "      <th>2</th>\n",
       "      <td>One of the world's biggest fertiliser firms sa...</td>\n",
       "      <td>one world biggest fertiliser firms says confli...</td>\n",
       "      <td>2</td>\n",
       "      <td>0.045744</td>\n",
       "      <td>-0.025741</td>\n",
       "    </tr>\n",
       "    <tr>\n",
       "      <th>3</th>\n",
       "      <td>The parents of the Manchester Arena bombing's ...</td>\n",
       "      <td>parents manchester arena bombing youngest vict...</td>\n",
       "      <td>2</td>\n",
       "      <td>-0.006405</td>\n",
       "      <td>-0.010874</td>\n",
       "    </tr>\n",
       "    <tr>\n",
       "      <th>4</th>\n",
       "      <td>Consumers are feeling the impact of higher ene...</td>\n",
       "      <td>consumers feeling impact higher energy costs f...</td>\n",
       "      <td>2</td>\n",
       "      <td>-0.054838</td>\n",
       "      <td>0.019120</td>\n",
       "    </tr>\n",
       "    <tr>\n",
       "      <th>...</th>\n",
       "      <td>...</td>\n",
       "      <td>...</td>\n",
       "      <td>...</td>\n",
       "      <td>...</td>\n",
       "      <td>...</td>\n",
       "    </tr>\n",
       "    <tr>\n",
       "      <th>19035</th>\n",
       "      <td>At a crisis meeting, France's president condem...</td>\n",
       "      <td>crisis meeting france president condemns three...</td>\n",
       "      <td>2</td>\n",
       "      <td>-0.010353</td>\n",
       "      <td>-0.003428</td>\n",
       "    </tr>\n",
       "    <tr>\n",
       "      <th>19036</th>\n",
       "      <td>The death of 17-year-old Nahel M, during a tra...</td>\n",
       "      <td>death year old nahel traffic stop provoked ang...</td>\n",
       "      <td>2</td>\n",
       "      <td>-0.041034</td>\n",
       "      <td>0.010042</td>\n",
       "    </tr>\n",
       "    <tr>\n",
       "      <th>19037</th>\n",
       "      <td>Nahel M's death follows an increase in police ...</td>\n",
       "      <td>nahel death follows increase police using fire...</td>\n",
       "      <td>2</td>\n",
       "      <td>-0.038246</td>\n",
       "      <td>0.010779</td>\n",
       "    </tr>\n",
       "    <tr>\n",
       "      <th>19038</th>\n",
       "      <td>France sees a third night of mass unrest, trig...</td>\n",
       "      <td>france sees third night mass unrest triggered ...</td>\n",
       "      <td>2</td>\n",
       "      <td>0.000362</td>\n",
       "      <td>-0.007392</td>\n",
       "    </tr>\n",
       "    <tr>\n",
       "      <th>19039</th>\n",
       "      <td>He was learning to be an electrician and playe...</td>\n",
       "      <td>learning electrician played rugby league died ...</td>\n",
       "      <td>2</td>\n",
       "      <td>0.013048</td>\n",
       "      <td>-0.017480</td>\n",
       "    </tr>\n",
       "  </tbody>\n",
       "</table>\n",
       "<p>19040 rows × 5 columns</p>\n",
       "</div>"
      ],
      "text/plain": [
       "                                             description  \\\n",
       "0      The Ukrainian president says the country will ...   \n",
       "1      Jeremy Bowen was on the frontline in Irpin, as...   \n",
       "2      One of the world's biggest fertiliser firms sa...   \n",
       "3      The parents of the Manchester Arena bombing's ...   \n",
       "4      Consumers are feeling the impact of higher ene...   \n",
       "...                                                  ...   \n",
       "19035  At a crisis meeting, France's president condem...   \n",
       "19036  The death of 17-year-old Nahel M, during a tra...   \n",
       "19037  Nahel M's death follows an increase in police ...   \n",
       "19038  France sees a third night of mass unrest, trig...   \n",
       "19039  He was learning to be an electrician and playe...   \n",
       "\n",
       "                                                 cleaned  cluster        x0  \\\n",
       "0      ukrainian president says country forgive forge...        2 -0.059115   \n",
       "1      jeremy bowen frontline irpin residents came ru...        2 -0.042678   \n",
       "2      one world biggest fertiliser firms says confli...        2  0.045744   \n",
       "3      parents manchester arena bombing youngest vict...        2 -0.006405   \n",
       "4      consumers feeling impact higher energy costs f...        2 -0.054838   \n",
       "...                                                  ...      ...       ...   \n",
       "19035  crisis meeting france president condemns three...        2 -0.010353   \n",
       "19036  death year old nahel traffic stop provoked ang...        2 -0.041034   \n",
       "19037  nahel death follows increase police using fire...        2 -0.038246   \n",
       "19038  france sees third night mass unrest triggered ...        2  0.000362   \n",
       "19039  learning electrician played rugby league died ...        2  0.013048   \n",
       "\n",
       "             x1  \n",
       "0      0.005855  \n",
       "1      0.010449  \n",
       "2     -0.025741  \n",
       "3     -0.010874  \n",
       "4      0.019120  \n",
       "...         ...  \n",
       "19035 -0.003428  \n",
       "19036  0.010042  \n",
       "19037  0.010779  \n",
       "19038 -0.007392  \n",
       "19039 -0.017480  \n",
       "\n",
       "[19040 rows x 5 columns]"
      ]
     },
     "execution_count": 20,
     "metadata": {},
     "output_type": "execute_result"
    }
   ],
   "source": [
    "df"
   ]
  },
  {
   "cell_type": "markdown",
   "id": "509691a2",
   "metadata": {},
   "source": [
    "Let’s see which are the most relevant keywords for each centroid"
   ]
  },
  {
   "cell_type": "code",
   "execution_count": 21,
   "id": "fe6033f8",
   "metadata": {},
   "outputs": [
    {
     "name": "stdout",
     "output_type": "stream",
     "text": [
      "\n",
      "Cluster 0\n",
      "victory,premier,first,manchester,win,final,league,england,cup,world\n",
      "\n",
      "Cluster 1\n",
      "died,least,say,uk,killed,homes,young,million,says,people\n",
      "\n",
      "Cluster 2\n",
      "years,russia,us,say,new,ukraine,year,uk,bbc,says\n"
     ]
    }
   ],
   "source": [
    "def get_top_keywords(n_terms):\n",
    "    df = pd.DataFrame(X.todense()).groupby(clusters).mean()\n",
    "    terms = vectorizer.get_feature_names_out()\n",
    "   \n",
    "    for i,r in df.iterrows():\n",
    "        print('\\nCluster {}'.format(i))\n",
    "        print(','.join([terms[t] for t in np.argsort(r)[-n_terms:]])) \n",
    "        \n",
    "get_top_keywords(10)"
   ]
  },
  {
   "cell_type": "markdown",
   "id": "31510ff9",
   "metadata": {},
   "source": [
    "we can rename each cluster with a better label"
   ]
  },
  {
   "cell_type": "code",
   "execution_count": 22,
   "id": "04e464b0",
   "metadata": {},
   "outputs": [],
   "source": [
    "# map clusters to appropriate labels \n",
    "# cluster_map = {0: \"a\", 1: \"b\", 2: \"c\", 3: \"d\"}\n",
    "\n",
    "# # apply mapping\n",
    "# df['cluster'] = df['cluster'].map(cluster_map)"
   ]
  },
  {
   "cell_type": "markdown",
   "id": "756f7ae3",
   "metadata": {},
   "source": [
    " visualize our grouped texts in a very simple way."
   ]
  },
  {
   "cell_type": "code",
   "execution_count": 23,
   "id": "c5876bd7",
   "metadata": {},
   "outputs": [
    {
     "data": {
      "image/png": "[encoded data removed]",
      "text/plain": [
       "<Figure size 1200x700 with 1 Axes>"
      ]
     },
     "metadata": {},
     "output_type": "display_data"
    }
   ],
   "source": [
    "# set image size\n",
    "plt.figure(figsize=(12, 7))\n",
    "\n",
    "# set a title\n",
    "plt.title(\"TF-IDF + KMeans BBC News clustering\", fontdict={\"fontsize\": 20})\n",
    "\n",
    "# set axes names\n",
    "plt.xlabel(\"X0\", fontdict={\"fontsize\": 18})\n",
    "plt.ylabel(\"X1\", fontdict={\"fontsize\": 18})\n",
    "\n",
    "# create scatter plot with seaborn, where hue is the class used to group the data\n",
    "sns.scatterplot(data=df, x='x0', y='x1', hue='cluster', palette=\"viridis\")\n",
    "plt.show()"
   ]
  }
 ],
 "metadata": {
  "kernelspec": {
   "display_name": "Python 3 (ipykernel)",
   "language": "python",
   "name": "python3"
  },
  "language_info": {
   "codemirror_mode": {
    "name": "ipython",
    "version": 3
   },
   "file_extension": ".py",
   "mimetype": "text/x-python",
   "name": "python",
   "nbconvert_exporter": "python",
   "pygments_lexer": "ipython3",
   "version": "3.10.8"
  }
 },
 "nbformat": 4,
 "nbformat_minor": 5
}
